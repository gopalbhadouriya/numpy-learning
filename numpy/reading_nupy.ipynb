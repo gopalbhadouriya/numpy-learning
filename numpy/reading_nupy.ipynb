{
 "cells": [
  {
   "cell_type": "code",
   "execution_count": 1,
   "id": "879d7212-d405-4d92-891a-72850afd9b35",
   "metadata": {},
   "outputs": [],
   "source": [
    "import numpy as np"
   ]
  },
  {
   "cell_type": "code",
   "execution_count": 2,
   "id": "7667cf43-e4ec-4e24-ae4f-9bd8a1d8166b",
   "metadata": {},
   "outputs": [],
   "source": [
    "arr = np.array([1,3,5,4,5])"
   ]
  },
  {
   "cell_type": "code",
   "execution_count": 3,
   "id": "4aedf020-322a-452b-aa76-0e9fffff160c",
   "metadata": {},
   "outputs": [
    {
     "data": {
      "text/plain": [
       "array([1, 3, 5, 4, 5])"
      ]
     },
     "execution_count": 3,
     "metadata": {},
     "output_type": "execute_result"
    }
   ],
   "source": [
    "arr"
   ]
  },
  {
   "cell_type": "code",
   "execution_count": 8,
   "id": "625b1f6e-96f7-40ea-a08d-1e89f3b22914",
   "metadata": {},
   "outputs": [],
   "source": [
    "myarr = np.array([[1,4,3,4,343434,5]] , np.int64)"
   ]
  },
  {
   "cell_type": "code",
   "execution_count": 9,
   "id": "98e13095-b109-4067-96fa-abd9a4912668",
   "metadata": {},
   "outputs": [
    {
     "data": {
      "text/plain": [
       "np.int64(3)"
      ]
     },
     "execution_count": 9,
     "metadata": {},
     "output_type": "execute_result"
    }
   ],
   "source": [
    "myarr[0,2]"
   ]
  },
  {
   "cell_type": "code",
   "execution_count": 10,
   "id": "95e0e171-349f-4f5d-b251-daa246f99bbe",
   "metadata": {},
   "outputs": [
    {
     "data": {
      "text/plain": [
       "(1, 6)"
      ]
     },
     "execution_count": 10,
     "metadata": {},
     "output_type": "execute_result"
    }
   ],
   "source": [
    "myarr.shape"
   ]
  },
  {
   "cell_type": "code",
   "execution_count": 11,
   "id": "ed3ffd6d-d86e-4b7b-829f-179055a320eb",
   "metadata": {},
   "outputs": [],
   "source": [
    "# lets change element of any array"
   ]
  },
  {
   "cell_type": "code",
   "execution_count": 12,
   "id": "9846f7d0-696f-4fd4-bb2b-433171eccb14",
   "metadata": {},
   "outputs": [
    {
     "data": {
      "text/plain": [
       "np.int64(5)"
      ]
     },
     "execution_count": 12,
     "metadata": {},
     "output_type": "execute_result"
    }
   ],
   "source": [
    "myarr[0,5]"
   ]
  },
  {
   "cell_type": "code",
   "execution_count": null,
   "id": "282eb17d-e906-45ea-83d5-055a4bf68560",
   "metadata": {},
   "outputs": [],
   "source": [
    "myarr[0"
   ]
  }
 ],
 "metadata": {
  "kernelspec": {
   "display_name": "Python 3 (ipykernel)",
   "language": "python",
   "name": "python3"
  },
  "language_info": {
   "codemirror_mode": {
    "name": "ipython",
    "version": 3
   },
   "file_extension": ".py",
   "mimetype": "text/x-python",
   "name": "python",
   "nbconvert_exporter": "python",
   "pygments_lexer": "ipython3",
   "version": "3.12.7"
  }
 },
 "nbformat": 4,
 "nbformat_minor": 5
}
