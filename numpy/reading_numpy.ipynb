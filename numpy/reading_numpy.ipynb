{
 "cells": [
  {
   "cell_type": "code",
   "execution_count": 1,
   "id": "879d7212-d405-4d92-891a-72850afd9b35",
   "metadata": {},
   "outputs": [],
   "source": [
    "import numpy as np"
   ]
  },
  {
   "cell_type": "code",
   "execution_count": 2,
   "id": "7667cf43-e4ec-4e24-ae4f-9bd8a1d8166b",
   "metadata": {},
   "outputs": [],
   "source": [
    "arr = np.array([1,3,5,4,5])"
   ]
  },
  {
   "cell_type": "code",
   "execution_count": 3,
   "id": "4aedf020-322a-452b-aa76-0e9fffff160c",
   "metadata": {},
   "outputs": [
    {
     "data": {
      "text/plain": [
       "array([1, 3, 5, 4, 5])"
      ]
     },
     "execution_count": 3,
     "metadata": {},
     "output_type": "execute_result"
    }
   ],
   "source": [
    "arr"
   ]
  },
  {
   "cell_type": "code",
   "execution_count": 8,
   "id": "625b1f6e-96f7-40ea-a08d-1e89f3b22914",
   "metadata": {},
   "outputs": [],
   "source": [
    "myarr = np.array([[1,4,3,4,343434,5]] , np.int64)"
   ]
  },
  {
   "cell_type": "code",
   "execution_count": 9,
   "id": "98e13095-b109-4067-96fa-abd9a4912668",
   "metadata": {},
   "outputs": [
    {
     "data": {
      "text/plain": [
       "np.int64(3)"
      ]
     },
     "execution_count": 9,
     "metadata": {},
     "output_type": "execute_result"
    }
   ],
   "source": [
    "myarr[0,2]"
   ]
  },
  {
   "cell_type": "code",
   "execution_count": 10,
   "id": "95e0e171-349f-4f5d-b251-daa246f99bbe",
   "metadata": {},
   "outputs": [
    {
     "data": {
      "text/plain": [
       "(1, 6)"
      ]
     },
     "execution_count": 10,
     "metadata": {},
     "output_type": "execute_result"
    }
   ],
   "source": [
    "myarr.shape"
   ]
  },
  {
   "cell_type": "code",
   "execution_count": 11,
   "id": "ed3ffd6d-d86e-4b7b-829f-179055a320eb",
   "metadata": {},
   "outputs": [],
   "source": [
    "# lets change element of any array"
   ]
  },
  {
   "cell_type": "code",
   "execution_count": 15,
   "id": "9846f7d0-696f-4fd4-bb2b-433171eccb14",
   "metadata": {},
   "outputs": [
    {
     "data": {
      "text/plain": [
       "np.int64(45)"
      ]
     },
     "execution_count": 15,
     "metadata": {},
     "output_type": "execute_result"
    }
   ],
   "source": [
    "myarr[0,5] #type index"
   ]
  },
  {
   "cell_type": "code",
   "execution_count": 18,
   "id": "282eb17d-e906-45ea-83d5-055a4bf68560",
   "metadata": {},
   "outputs": [],
   "source": [
    "myarr[0,5] = 45 #give a value of index to change"
   ]
  },
  {
   "cell_type": "code",
   "execution_count": 19,
   "id": "57220bf5-c9ec-4b5c-b074-cacb0bd6857b",
   "metadata": {},
   "outputs": [
    {
     "data": {
      "text/plain": [
       "array([[     1,      4,      3,      4, 343434,     45]])"
      ]
     },
     "execution_count": 19,
     "metadata": {},
     "output_type": "execute_result"
    }
   ],
   "source": [
    "myarr"
   ]
  },
  {
   "cell_type": "code",
   "execution_count": 20,
   "id": "c6f3911b-f783-41de-841f-00281bb90232",
   "metadata": {},
   "outputs": [],
   "source": [
    "# it change element on the fifth index"
   ]
  },
  {
   "cell_type": "code",
   "execution_count": 21,
   "id": "7b41df4a-9e2b-4799-b8ff-d06efbe099e8",
   "metadata": {},
   "outputs": [
    {
     "data": {
      "text/plain": [
       "6"
      ]
     },
     "execution_count": 21,
     "metadata": {},
     "output_type": "execute_result"
    }
   ],
   "source": [
    "myarr.size"
   ]
  },
  {
   "cell_type": "code",
   "execution_count": 32,
   "id": "c4e55d96-d950-4787-8713-ed9f43de7d7a",
   "metadata": {},
   "outputs": [],
   "source": [
    "zerox = np.zeros((5,5))"
   ]
  },
  {
   "cell_type": "code",
   "execution_count": 33,
   "id": "1bb1a6b1-9e6d-4fc6-abdd-762ff53c0a8d",
   "metadata": {},
   "outputs": [
    {
     "data": {
      "text/plain": [
       "array([[0., 0., 0., 0., 0.],\n",
       "       [0., 0., 0., 0., 0.],\n",
       "       [0., 0., 0., 0., 0.],\n",
       "       [0., 0., 0., 0., 0.],\n",
       "       [0., 0., 0., 0., 0.]])"
      ]
     },
     "execution_count": 33,
     "metadata": {},
     "output_type": "execute_result"
    }
   ],
   "source": [
    "zerox*2"
   ]
  },
  {
   "cell_type": "code",
   "execution_count": 34,
   "id": "2070189e-96bb-4c88-86a3-cdc92f26da8c",
   "metadata": {},
   "outputs": [
    {
     "data": {
      "text/plain": [
       "array([[0., 0., 0., 0., 0.],\n",
       "       [0., 0., 0., 0., 0.],\n",
       "       [0., 0., 0., 0., 0.],\n",
       "       [0., 0., 0., 0., 0.],\n",
       "       [0., 0., 0., 0., 0.]])"
      ]
     },
     "execution_count": 34,
     "metadata": {},
     "output_type": "execute_result"
    }
   ],
   "source": [
    "zerox"
   ]
  },
  {
   "cell_type": "code",
   "execution_count": 35,
   "id": "203b8498-5396-4a31-8d16-4af954b42632",
   "metadata": {},
   "outputs": [
    {
     "data": {
      "text/plain": [
       "dtype('float64')"
      ]
     },
     "execution_count": 35,
     "metadata": {},
     "output_type": "execute_result"
    }
   ],
   "source": [
    "zerox.dtype"
   ]
  },
  {
   "cell_type": "code",
   "execution_count": 36,
   "id": "0ea51690-5a5c-4a0b-8d64-454b4e32eb21",
   "metadata": {},
   "outputs": [],
   "source": [
    "# print number array using range "
   ]
  },
  {
   "cell_type": "code",
   "execution_count": 37,
   "id": "69fbdac9-4135-4359-9c2a-5a6a7bf56794",
   "metadata": {},
   "outputs": [],
   "source": [
    "rng = np.arange(15)"
   ]
  },
  {
   "cell_type": "code",
   "execution_count": 38,
   "id": "71ff774f-9a60-48ab-b846-d082f5e9e612",
   "metadata": {},
   "outputs": [
    {
     "data": {
      "text/plain": [
       "array([ 0,  1,  2,  3,  4,  5,  6,  7,  8,  9, 10, 11, 12, 13, 14])"
      ]
     },
     "execution_count": 38,
     "metadata": {},
     "output_type": "execute_result"
    }
   ],
   "source": [
    "rng"
   ]
  },
  {
   "cell_type": "code",
   "execution_count": 39,
   "id": "0f2640ad-4973-48fd-8dc7-4a572cec5f23",
   "metadata": {},
   "outputs": [],
   "source": [
    "rng2 = np.arange(15+1)"
   ]
  },
  {
   "cell_type": "code",
   "execution_count": 40,
   "id": "779a57d6-38c8-4a16-bda3-01078a2680aa",
   "metadata": {},
   "outputs": [
    {
     "data": {
      "text/plain": [
       "array([ 0,  1,  2,  3,  4,  5,  6,  7,  8,  9, 10, 11, 12, 13, 14, 15])"
      ]
     },
     "execution_count": 40,
     "metadata": {},
     "output_type": "execute_result"
    }
   ],
   "source": [
    "rng2"
   ]
  },
  {
   "cell_type": "code",
   "execution_count": 41,
   "id": "03391236-4e2e-42ec-8848-18417ef8ed2f",
   "metadata": {},
   "outputs": [
    {
     "data": {
      "text/plain": [
       "16"
      ]
     },
     "execution_count": 41,
     "metadata": {},
     "output_type": "execute_result"
    }
   ],
   "source": [
    "rng2.size"
   ]
  },
  {
   "cell_type": "code",
   "execution_count": 42,
   "id": "9df0d183-f143-4ba6-9725-12a380d8962d",
   "metadata": {},
   "outputs": [
    {
     "data": {
      "text/plain": [
       "(16,)"
      ]
     },
     "execution_count": 42,
     "metadata": {},
     "output_type": "execute_result"
    }
   ],
   "source": [
    "rng2.shape"
   ]
  },
  {
   "cell_type": "code",
   "execution_count": 44,
   "id": "8dc317b6-24d8-4bb7-b230-a00e82d571fa",
   "metadata": {},
   "outputs": [],
   "source": [
    "# now see how much number we want in two number"
   ]
  },
  {
   "cell_type": "code",
   "execution_count": 49,
   "id": "14d8feb5-122f-40a0-a4b4-5777585fe1c0",
   "metadata": {},
   "outputs": [],
   "source": [
    "lspace = np.linspace(1,50,10)"
   ]
  },
  {
   "cell_type": "code",
   "execution_count": 50,
   "id": "803ada1c-703c-4721-a2a7-f9a35be4ce5a",
   "metadata": {},
   "outputs": [
    {
     "data": {
      "text/plain": [
       "array([ 1.        ,  6.44444444, 11.88888889, 17.33333333, 22.77777778,\n",
       "       28.22222222, 33.66666667, 39.11111111, 44.55555556, 50.        ])"
      ]
     },
     "execution_count": 50,
     "metadata": {},
     "output_type": "execute_result"
    }
   ],
   "source": [
    "lspace"
   ]
  },
  {
   "cell_type": "code",
   "execution_count": 51,
   "id": "36a7558c-5489-41d8-ab0e-c5b1e602291f",
   "metadata": {},
   "outputs": [],
   "source": [
    "#  for random value"
   ]
  },
  {
   "cell_type": "code",
   "execution_count": 56,
   "id": "69b4a95f-e390-4f27-aeb9-b02e4ba15e1c",
   "metadata": {},
   "outputs": [],
   "source": [
    "emp = np.empty((6,6), np.int64) # i use int64 for claim all int value"
   ]
  },
  {
   "cell_type": "code",
   "execution_count": 58,
   "id": "dd3cc4b4-2e83-47ad-b2c8-aa836741f12f",
   "metadata": {},
   "outputs": [
    {
     "data": {
      "text/plain": [
       "array([[23925768161198147, 32370111954616435, 31525674139713628,\n",
       "        18296268630261857, 27303364806049904, 21392493373358196],\n",
       "       [30399714103066735, 31244212046397532, 30681189080760423,\n",
       "        34058815785402483, 30962724186357876, 32651616994721884],\n",
       "       [14355696265920616, 21392493370277937, 32370017465139305,\n",
       "        12666807751278697, 30118247716159600, 32370056120172641],\n",
       "       [27584981515894876, 34058953225076853, 28429479460143196,\n",
       "        32088624092938350, 31525592535138405, 33214481050108025],\n",
       "       [31525605419516004, 33214481050108025, 32932993188167780,\n",
       "        28429436510797934, 28148017369448540, 26740552291975269],\n",
       "       [27866499443196016, 26740616716288101, 26740621010337902,\n",
       "        30681240620171363, 12948278432628833, 30962247446102128]])"
      ]
     },
     "execution_count": 58,
     "metadata": {},
     "output_type": "execute_result"
    }
   ],
   "source": [
    "emp"
   ]
  },
  {
   "cell_type": "code",
   "execution_count": 59,
   "id": "560375c0-5dfe-4896-973e-983b644b6035",
   "metadata": {},
   "outputs": [],
   "source": [
    "# asis"
   ]
  },
  {
   "cell_type": "code",
   "execution_count": 60,
   "id": "9762783b-89f9-4752-99c0-fe9ed56a3d0a",
   "metadata": {},
   "outputs": [],
   "source": [
    "x = [[1,2,3],[4,5,6],[7,0,1]]"
   ]
  },
  {
   "cell_type": "code",
   "execution_count": 61,
   "id": "93f80862-2272-4b94-a148-2dbd403fbfb0",
   "metadata": {},
   "outputs": [],
   "source": [
    "arry = np.array(x)"
   ]
  },
  {
   "cell_type": "code",
   "execution_count": 62,
   "id": "f84e9bce-d554-404b-8ee9-79f93c7241c1",
   "metadata": {},
   "outputs": [
    {
     "data": {
      "text/plain": [
       "array([[1, 2, 3],\n",
       "       [4, 5, 6],\n",
       "       [7, 0, 1]])"
      ]
     },
     "execution_count": 62,
     "metadata": {},
     "output_type": "execute_result"
    }
   ],
   "source": [
    "arry"
   ]
  },
  {
   "cell_type": "code",
   "execution_count": 63,
   "id": "7554bbcb-1a16-4a41-9930-77ac289c7a53",
   "metadata": {},
   "outputs": [
    {
     "ename": "TypeError",
     "evalue": "sum() takes at least 1 positional argument (0 given)",
     "output_type": "error",
     "traceback": [
      "\u001b[1;31m---------------------------------------------------------------------------\u001b[0m",
      "\u001b[1;31mTypeError\u001b[0m                                 Traceback (most recent call last)",
      "Cell \u001b[1;32mIn[63], line 1\u001b[0m\n\u001b[1;32m----> 1\u001b[0m \u001b[38;5;28;43msum\u001b[39;49m\u001b[43m(\u001b[49m\u001b[43maxis\u001b[49m\u001b[43m \u001b[49m\u001b[38;5;241;43m=\u001b[39;49m\u001b[43m \u001b[49m\u001b[38;5;241;43m0\u001b[39;49m\u001b[43m)\u001b[49m\n",
      "\u001b[1;31mTypeError\u001b[0m: sum() takes at least 1 positional argument (0 given)"
     ]
    }
   ],
   "source": [
    "sum(axis = 0)"
   ]
  },
  {
   "cell_type": "code",
   "execution_count": 64,
   "id": "45c129b3-39f4-4704-b021-945a279f6eb5",
   "metadata": {},
   "outputs": [
    {
     "data": {
      "text/plain": [
       "array([12,  7, 10])"
      ]
     },
     "execution_count": 64,
     "metadata": {},
     "output_type": "execute_result"
    }
   ],
   "source": [
    "arry.sum(axis=0)"
   ]
  },
  {
   "cell_type": "code",
   "execution_count": 65,
   "id": "60df2183-2af2-4ba5-a2d0-a2231966b771",
   "metadata": {},
   "outputs": [
    {
     "data": {
      "text/plain": [
       "array([ 6, 15,  8])"
      ]
     },
     "execution_count": 65,
     "metadata": {},
     "output_type": "execute_result"
    }
   ],
   "source": [
    "arry.sum(axis=1)"
   ]
  },
  {
   "cell_type": "code",
   "execution_count": 66,
   "id": "b4a51887-c5e6-48da-a629-b42b9b19af50",
   "metadata": {},
   "outputs": [],
   "source": [
    "# transform"
   ]
  },
  {
   "cell_type": "code",
   "execution_count": 67,
   "id": "1ff146b0-6c7b-4fc2-94ea-9fde9a10ae88",
   "metadata": {},
   "outputs": [
    {
     "data": {
      "text/plain": [
       "array([[1, 4, 7],\n",
       "       [2, 5, 0],\n",
       "       [3, 6, 1]])"
      ]
     },
     "execution_count": 67,
     "metadata": {},
     "output_type": "execute_result"
    }
   ],
   "source": [
    "arry.T"
   ]
  },
  {
   "cell_type": "code",
   "execution_count": 68,
   "id": "4c48e603-aa88-4ab0-a567-b4a368f9205a",
   "metadata": {},
   "outputs": [],
   "source": [
    "# get item"
   ]
  },
  {
   "cell_type": "code",
   "execution_count": 70,
   "id": "b4419afa-07c0-43d8-a956-231ec668512c",
   "metadata": {},
   "outputs": [
    {
     "name": "stdout",
     "output_type": "stream",
     "text": [
      "1\n",
      "2\n",
      "3\n",
      "4\n",
      "5\n",
      "6\n",
      "7\n",
      "0\n",
      "1\n"
     ]
    }
   ],
   "source": [
    "for item in arry.flat:\n",
    "    print(item)"
   ]
  },
  {
   "cell_type": "code",
   "execution_count": 71,
   "id": "40d01cd8-c79c-4d04-8afa-e876759dad51",
   "metadata": {},
   "outputs": [],
   "source": [
    "# ndim for check dimetion that array is 1d or 2d or more"
   ]
  },
  {
   "cell_type": "code",
   "execution_count": 72,
   "id": "f0d0afc0-b147-41d4-a9c1-ab44da8223cb",
   "metadata": {},
   "outputs": [
    {
     "data": {
      "text/plain": [
       "2"
      ]
     },
     "execution_count": 72,
     "metadata": {},
     "output_type": "execute_result"
    }
   ],
   "source": [
    "arry.ndim"
   ]
  },
  {
   "cell_type": "code",
   "execution_count": 73,
   "id": "b1212114-35b8-4245-8131-fed333aeb169",
   "metadata": {},
   "outputs": [
    {
     "data": {
      "text/plain": [
       "72"
      ]
     },
     "execution_count": 73,
     "metadata": {},
     "output_type": "execute_result"
    }
   ],
   "source": [
    "arry.nbytes"
   ]
  },
  {
   "cell_type": "code",
   "execution_count": 74,
   "id": "4860fe4b-9aab-44de-82ad-1c96d821a92e",
   "metadata": {},
   "outputs": [
    {
     "data": {
      "text/plain": [
       "9"
      ]
     },
     "execution_count": 74,
     "metadata": {},
     "output_type": "execute_result"
    }
   ],
   "source": [
    "arry.size"
   ]
  },
  {
   "cell_type": "code",
   "execution_count": 75,
   "id": "9589c773-e71f-4e09-b268-ffdf7e37dacc",
   "metadata": {},
   "outputs": [],
   "source": [
    "# take index that where is you bigest element"
   ]
  },
  {
   "cell_type": "code",
   "execution_count": 76,
   "id": "3aed20d8-a0ba-4105-b236-22a2e6200dd1",
   "metadata": {},
   "outputs": [],
   "source": [
    "one = np.array([1,2,4,4545,67,56])"
   ]
  },
  {
   "cell_type": "code",
   "execution_count": 78,
   "id": "853a9bff-e023-4616-b8f5-24f0e42c802a",
   "metadata": {},
   "outputs": [
    {
     "data": {
      "text/plain": [
       "np.int64(3)"
      ]
     },
     "execution_count": 78,
     "metadata": {},
     "output_type": "execute_result"
    }
   ],
   "source": [
    "one.argmax() #this is function beacouse it has () which has () are function and without () are attribute"
   ]
  },
  {
   "cell_type": "code",
   "execution_count": 80,
   "id": "a424295c-cd8a-4c18-a40b-ee7efe1c4997",
   "metadata": {},
   "outputs": [
    {
     "data": {
      "text/plain": [
       "np.int64(0)"
      ]
     },
     "execution_count": 80,
     "metadata": {},
     "output_type": "execute_result"
    }
   ],
   "source": [
    "one.argmin() # check which is minimum number in array"
   ]
  },
  {
   "cell_type": "code",
   "execution_count": 81,
   "id": "5b8ee8c0-04e0-4ba7-8211-2d3ca1d848a3",
   "metadata": {},
   "outputs": [],
   "source": [
    "# get acending order index"
   ]
  },
  {
   "cell_type": "code",
   "execution_count": 82,
   "id": "56fd2470-ea40-4e32-a0a9-8e0c160c8627",
   "metadata": {},
   "outputs": [
    {
     "data": {
      "text/plain": [
       "array([0, 1, 2, 5, 4, 3])"
      ]
     },
     "execution_count": 82,
     "metadata": {},
     "output_type": "execute_result"
    }
   ],
   "source": [
    "one.argsort() "
   ]
  },
  {
   "cell_type": "code",
   "execution_count": 84,
   "id": "13210c9a-279d-4bf8-b926-c5d3caaa8bdd",
   "metadata": {},
   "outputs": [],
   "source": [
    "# these same function in 2D array"
   ]
  },
  {
   "cell_type": "code",
   "execution_count": 85,
   "id": "8044eb39-9884-40b4-be1c-a0b830810252",
   "metadata": {},
   "outputs": [
    {
     "data": {
      "text/plain": [
       "array([[1, 2, 3],\n",
       "       [4, 5, 6],\n",
       "       [7, 0, 1]])"
      ]
     },
     "execution_count": 85,
     "metadata": {},
     "output_type": "execute_result"
    }
   ],
   "source": [
    "arry"
   ]
  },
  {
   "cell_type": "code",
   "execution_count": 86,
   "id": "c4e7ec50-270e-4112-a005-340546312a57",
   "metadata": {},
   "outputs": [
    {
     "data": {
      "text/plain": [
       "np.int64(6)"
      ]
     },
     "execution_count": 86,
     "metadata": {},
     "output_type": "execute_result"
    }
   ],
   "source": [
    "arry.argmax()"
   ]
  },
  {
   "cell_type": "code",
   "execution_count": 88,
   "id": "c99d2c6d-9ece-4553-aca6-3904ab80a5fe",
   "metadata": {},
   "outputs": [
    {
     "data": {
      "text/plain": [
       "np.int64(7)"
      ]
     },
     "execution_count": 88,
     "metadata": {},
     "output_type": "execute_result"
    }
   ],
   "source": [
    "arry.argmin()"
   ]
  },
  {
   "cell_type": "code",
   "execution_count": 89,
   "id": "35723c29-6fcd-43a2-a31c-e3e58d2fd564",
   "metadata": {},
   "outputs": [
    {
     "data": {
      "text/plain": [
       "array([[0, 1, 2],\n",
       "       [0, 1, 2],\n",
       "       [1, 2, 0]])"
      ]
     },
     "execution_count": 89,
     "metadata": {},
     "output_type": "execute_result"
    }
   ],
   "source": [
    "arry.argsort()"
   ]
  },
  {
   "cell_type": "code",
   "execution_count": 90,
   "id": "513daa26-d056-48a5-ad5b-ab5dcfc87513",
   "metadata": {},
   "outputs": [
    {
     "data": {
      "text/plain": [
       "array([2, 1, 1])"
      ]
     },
     "execution_count": 90,
     "metadata": {},
     "output_type": "execute_result"
    }
   ],
   "source": [
    "arry.argmax(axis=0)"
   ]
  },
  {
   "cell_type": "code",
   "execution_count": 91,
   "id": "4df8b152-2779-483a-ac65-d815c2da9ba2",
   "metadata": {},
   "outputs": [
    {
     "data": {
      "text/plain": [
       "array([[1, 2, 3],\n",
       "       [4, 5, 6],\n",
       "       [7, 0, 1]])"
      ]
     },
     "execution_count": 91,
     "metadata": {},
     "output_type": "execute_result"
    }
   ],
   "source": [
    "arry"
   ]
  },
  {
   "cell_type": "code",
   "execution_count": 92,
   "id": "55480bb8-e37b-4610-9a26-019a05f51090",
   "metadata": {},
   "outputs": [
    {
     "data": {
      "text/plain": [
       "array([[0, 1, 2],\n",
       "       [0, 1, 2],\n",
       "       [1, 2, 0]])"
      ]
     },
     "execution_count": 92,
     "metadata": {},
     "output_type": "execute_result"
    }
   ],
   "source": [
    "arry.argsort(axis=1)"
   ]
  },
  {
   "cell_type": "code",
   "execution_count": 93,
   "id": "cc787b45-2279-4c7e-9900-2b9166449b7b",
   "metadata": {},
   "outputs": [
    {
     "data": {
      "text/plain": [
       "array([[0, 2, 2],\n",
       "       [1, 0, 0],\n",
       "       [2, 1, 1]])"
      ]
     },
     "execution_count": 93,
     "metadata": {},
     "output_type": "execute_result"
    }
   ],
   "source": [
    "arry.argsort(axis=0)"
   ]
  },
  {
   "cell_type": "code",
   "execution_count": 94,
   "id": "72d829bc-670d-4fdb-9cfc-b04ba5e1b47e",
   "metadata": {},
   "outputs": [],
   "source": [
    "arry2 = np.array([[1,2,3],[4,5,6],[7,8,9]])"
   ]
  },
  {
   "cell_type": "code",
   "execution_count": 95,
   "id": "c031dce6-74cb-4fba-8b87-9b00f10d6eeb",
   "metadata": {},
   "outputs": [
    {
     "data": {
      "text/plain": [
       "array([[ 2,  4,  6],\n",
       "       [ 8, 10, 12],\n",
       "       [14,  8, 10]])"
      ]
     },
     "execution_count": 95,
     "metadata": {},
     "output_type": "execute_result"
    }
   ],
   "source": [
    "arry+arry2"
   ]
  },
  {
   "cell_type": "code",
   "execution_count": 96,
   "id": "965622fc-9d54-4630-8f80-a2176c91413a",
   "metadata": {},
   "outputs": [
    {
     "data": {
      "text/plain": [
       "array([[1, 2, 3],\n",
       "       [4, 5, 6],\n",
       "       [7, 0, 1]])"
      ]
     },
     "execution_count": 96,
     "metadata": {},
     "output_type": "execute_result"
    }
   ],
   "source": [
    "arry"
   ]
  },
  {
   "cell_type": "code",
   "execution_count": 97,
   "id": "162729d3-0aa9-4078-b950-a2a754e23531",
   "metadata": {},
   "outputs": [
    {
     "data": {
      "text/plain": [
       "np.int64(45)"
      ]
     },
     "execution_count": 97,
     "metadata": {},
     "output_type": "execute_result"
    }
   ],
   "source": [
    "arry2.sum()"
   ]
  },
  {
   "cell_type": "code",
   "execution_count": 98,
   "id": "67f3e25a-65c1-42ba-bc9d-f21b223f8823",
   "metadata": {},
   "outputs": [
    {
     "data": {
      "text/plain": [
       "np.int64(29)"
      ]
     },
     "execution_count": 98,
     "metadata": {},
     "output_type": "execute_result"
    }
   ],
   "source": [
    "arry.sum()"
   ]
  },
  {
   "cell_type": "code",
   "execution_count": null,
   "id": "336dee7b-8fec-49b7-9459-147b724dd24b",
   "metadata": {},
   "outputs": [],
   "source": []
  }
 ],
 "metadata": {
  "kernelspec": {
   "display_name": "Python 3 (ipykernel)",
   "language": "python",
   "name": "python3"
  },
  "language_info": {
   "codemirror_mode": {
    "name": "ipython",
    "version": 3
   },
   "file_extension": ".py",
   "mimetype": "text/x-python",
   "name": "python",
   "nbconvert_exporter": "python",
   "pygments_lexer": "ipython3",
   "version": "3.12.7"
  }
 },
 "nbformat": 4,
 "nbformat_minor": 5
}
